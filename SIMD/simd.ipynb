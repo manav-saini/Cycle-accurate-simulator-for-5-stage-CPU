{
  "nbformat": 4,
  "nbformat_minor": 0,
  "metadata": {
    "colab": {
      "provenance": []
    },
    "kernelspec": {
      "name": "python3",
      "display_name": "Python 3"
    },
    "language_info": {
      "name": "python"
    }
  },
  "cells": [
    {
      "cell_type": "code",
      "execution_count": null,
      "metadata": {
        "id": "SqoKgqwePym5"
      },
      "outputs": [],
      "source": [
        "table={\n",
        "    \"LD\": '000',\n",
        "    \"ST\": '001',\n",
        "    \"ADD\": '010',\n",
        "    \"SUB\": '011',\n",
        "    \"ADDI\": '100',\n",
        "}\n",
        "\n",
        "array_table={\n",
        "    \"a0\": '000',\n",
        "    \"a1\": '001',\n",
        "    \"a2\": '010',\n",
        "    \"a3\": '011',\n",
        "    \"a4\": '100'\n",
        "}\n",
        "\n",
        "reg_table={\n",
        "    \"r0\": '000',\n",
        "    \"r1\": '001',\n",
        "    \"r2\": '010',\n",
        "    \"r3\": '011',\n",
        "    \"r4\": '100'\n",
        "}"
      ]
    },
    {
      "cell_type": "code",
      "source": [
        "def convert(instruction):\n",
        "    writef=open('bin.txt', 'a')\n",
        "    instr=instruction.split()\n",
        "    print(instr)\n",
        "    binins=[table[instr[0]]]\n",
        "    if instr[0] == 'LD':\n",
        "      binins.append(array_table[instr[1]])\n",
        "      buff=bin(int(instr[2]))[2:]\n",
        "      if len(buff)<3:\n",
        "        while len(buff)<3:\n",
        "          buff='0'+buff\n",
        "      binins.append(buff)\n",
        "      for i in range(int(instr[2])):\n",
        "        buff=bin(int(instr[i+3]))[2:]\n",
        "        if len(buff)<3:\n",
        "          while len(buff)<3:\n",
        "            buff='0'+buff\n",
        "        binins.append(buff)\n",
        "    if instr[0]=='ADD' or instr[0]=='SUB':\n",
        "      binins.append(array_table[instr[1]])\n",
        "      binins.append(array_table[instr[2]])\n",
        "      binins.append(array_table[instr[3]])\n",
        "    if instr[0]=='ADDI':\n",
        "      binins.append(array_table[instr[1]])\n",
        "      binins.append(array_table[instr[2]])\n",
        "      buff=bin(int(instr[3]))[2:]\n",
        "      if len(buff)<3:\n",
        "        while len(buff)<3:\n",
        "          buff='0'+buff\n",
        "      binins.append(buff)\n",
        "    if instr[0]=='ST':\n",
        "      buff=bin(int(instr[1][0]))[2:]\n",
        "      if len(buff)<3:\n",
        "        while len(buff)<3:\n",
        "          buff='0'+buff\n",
        "      binins.append(buff)\n",
        "      binins.append(array_table[instr[1][2:-1]])\n",
        "      binins.append(reg_table[instr[2]])\n",
        "\n",
        "    binstr=''\n",
        "    for i in binins:\n",
        "      binstr=binstr+str(i)\n",
        "    print(binstr)\n",
        "    writef.write(binstr)\n",
        "    writef.write('\\n')\n",
        "\n",
        "    # print(binins)\n",
        "\n",
        "\n",
        "f = open('instructions.txt', 'r')\n",
        "for i in f:\n",
        "  convert(i)\n"
      ],
      "metadata": {
        "colab": {
          "base_uri": "https://localhost:8080/"
        },
        "id": "HL16aLo_Rujr",
        "outputId": "56d5be15-6c81-4b93-b482-7d9dda62d26d"
      },
      "execution_count": null,
      "outputs": [
        {
          "output_type": "stream",
          "name": "stdout",
          "text": [
            "['LD', 'a0', '3', '1', '2', '3']\n",
            "000000011001010011\n",
            "['LD', 'a1', '3', '4', '5', '6']\n",
            "000001011100101110\n",
            "['ADD', 'a2', 'a0', 'a1']\n",
            "010010000001\n",
            "['SUB', 'a3', 'a0', 'a1']\n",
            "011011000001\n",
            "['ADDI', 'a4', 'a0', '2']\n",
            "100100000010\n",
            "['ST', '0(a2)', 'r0']\n",
            "001000010000\n",
            "['ST', '4(a2)', 'r1']\n",
            "001100010001\n",
            "['ST', '0(a3)', 'r2']\n",
            "001000011010\n",
            "['ST', '4(a4)', 'r3']\n",
            "001100100011\n"
          ]
        }
      ]
    },
    {
      "cell_type": "code",
      "source": [
        "arr_sim={\n",
        "    '000':[],\n",
        "    '001':[],\n",
        "    '010':[],\n",
        "    '011':[],\n",
        "    '100':[],\n",
        "}\n",
        "\n",
        "reg_sim={\n",
        "    '000':0,\n",
        "    '001':0,\n",
        "    '010':0,\n",
        "    '011':0,\n",
        "    '100':0,\n",
        "}"
      ],
      "metadata": {
        "id": "-1bRdNM9ltNC"
      },
      "execution_count": null,
      "outputs": []
    },
    {
      "cell_type": "code",
      "source": [
        "f=open('bin.txt', 'r')\n",
        "arrays=[]\n",
        "for istr in f:\n",
        "  iarr=[istr[i:i+3] for i in range(0, len(istr), 3)]\n",
        "  iarr.pop()\n",
        "  print(iarr)\n",
        "  if iarr[0]=='000':\n",
        "    n=int(iarr[2], 2)\n",
        "    buff=[]\n",
        "    for i in range(n):\n",
        "      buff.append(int(iarr[3+i], 2))\n",
        "    arr_sim[iarr[1]]=buff\n",
        "  if iarr[0] == '010':\n",
        "    for i in range(len(arr_sim[iarr[2]])):\n",
        "      arr_sim[iarr[1]].append(arr_sim[iarr[2]][i]+arr_sim[iarr[3]][i])\n",
        "  if iarr[0] == '011':\n",
        "    for i in range(len(arr_sim[iarr[2]])):\n",
        "      arr_sim[iarr[1]].append(arr_sim[iarr[2]][i]-arr_sim[iarr[3]][i])\n",
        "  if iarr[0]== '100':\n",
        "    x=int(iarr[3], 2)\n",
        "    for i in range(len(arr_sim[iarr[2]])):\n",
        "      arr_sim[iarr[1]].append(arr_sim[iarr[2]][i]+x)\n",
        "  if iarr[0]=='001':\n",
        "    # print(int(iarr[1], 2))\n",
        "    index=int(iarr[1], 2)//4\n",
        "    reg_sim[iarr[3]]=arr_sim[iarr[2]][index]\n",
        "\n"
      ],
      "metadata": {
        "colab": {
          "base_uri": "https://localhost:8080/"
        },
        "id": "H6zj3UtdjW0H",
        "outputId": "c2221837-0569-4dd8-d3ef-8fa62ddb549c"
      },
      "execution_count": null,
      "outputs": [
        {
          "output_type": "stream",
          "name": "stdout",
          "text": [
            "['000', '000', '011', '001', '010', '011']\n",
            "['000', '001', '011', '100', '101', '110']\n",
            "['010', '010', '000', '001']\n",
            "['011', '011', '000', '001']\n",
            "['100', '100', '000', '010']\n",
            "['001', '000', '010', '000']\n",
            "['001', '100', '010', '001']\n",
            "['001', '000', '011', '010']\n",
            "['001', '100', '100', '011']\n"
          ]
        }
      ]
    },
    {
      "cell_type": "code",
      "source": [
        "print(arr_sim)\n",
        "print(reg_sim)"
      ],
      "metadata": {
        "colab": {
          "base_uri": "https://localhost:8080/"
        },
        "id": "goLGvvtywGOn",
        "outputId": "7a37ba0b-313e-447a-927f-ed282bdd56cd"
      },
      "execution_count": null,
      "outputs": [
        {
          "output_type": "stream",
          "name": "stdout",
          "text": [
            "{'000': [1, 2, 3], '001': [4, 5, 6], '010': [5, 7, 9], '011': [-3, -3, -3], '100': [3, 4, 5]}\n",
            "{'000': 5, '001': 7, '010': -3, '011': 4, '100': 0}\n"
          ]
        }
      ]
    }
  ]
}