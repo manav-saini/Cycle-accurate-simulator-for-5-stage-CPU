{
  "cells": [
    {
      "cell_type": "code",
      "execution_count": 1,
      "metadata": {
        "id": "SqoKgqwePym5"
      },
      "outputs": [],
      "source": [
        "table={\n",
        "    \"LDI\": '000',\n",
        "    \"ST\": '001',\n",
        "    \"ADD\": '010',\n",
        "    \"SUB\": '011',\n",
        "    \"ADDI\": '100',\n",
        "    \"LD\": '101'\n",
        "}\n",
        "\n",
        "array_table={\n",
        "    \"a0\": '000',\n",
        "    \"a1\": '001',\n",
        "    \"a2\": '010',\n",
        "    \"a3\": '011',\n",
        "    \"a4\": '100'\n",
        "}\n",
        "\n",
        "reg_table={\n",
        "    \"r0\": '000',\n",
        "    \"r1\": '001',\n",
        "    \"r2\": '010',\n",
        "    \"r3\": '011',\n",
        "    \"r4\": '100'\n",
        "}"
      ]
    },
    {
      "cell_type": "code",
      "execution_count": 2,
      "metadata": {
        "colab": {
          "base_uri": "https://localhost:8080/"
        },
        "id": "HL16aLo_Rujr",
        "outputId": "ec796672-309d-4711-f743-b2c2ae3d486e"
      },
      "outputs": [
        {
          "name": "stdout",
          "output_type": "stream",
          "text": [
            "['LDI', 'a0', '3', '1', '2', '3']\n",
            "000000011001010011\n",
            "['LDI', 'a2', '3', '4', '5', '6']\n",
            "000010011100101110\n",
            "['LD', 'a1', 'a2']\n",
            "101001010\n",
            "['ADD', 'a2', 'a0', 'a1']\n",
            "010010000001\n",
            "['SUB', 'a3', 'a0', 'a1']\n",
            "011011000001\n",
            "['ADDI', 'a4', 'a0', '2']\n",
            "100100000010\n",
            "['ST', '0(a2)', 'r0']\n",
            "001000010000\n",
            "['ST', '4(a2)', 'r1']\n",
            "001100010001\n",
            "['ST', '0(a3)', 'r2']\n",
            "001000011010\n",
            "['ST', '4(a4)', 'r3']\n",
            "001100100011\n"
          ]
        }
      ],
      "source": [
        "def convert(instruction):\n",
        "    writef=open('bin.txt', 'a')\n",
        "    instr=instruction.split()\n",
        "    print(instr)\n",
        "    binins=[table[instr[0]]]\n",
        "    if instr[0] == 'LDI':\n",
        "      binins.append(array_table[instr[1]])\n",
        "      buff=bin(int(instr[2]))[2:]\n",
        "      if len(buff)<3:\n",
        "        while len(buff)<3:\n",
        "          buff='0'+buff\n",
        "      binins.append(buff)\n",
        "      for i in range(int(instr[2])):\n",
        "        buff=bin(int(instr[i+3]))[2:]\n",
        "        if len(buff)<3:\n",
        "          while len(buff)<3:\n",
        "            buff='0'+buff\n",
        "        binins.append(buff)\n",
        "    if instr[0] == 'LD':\n",
        "      binins.append(array_table[instr[1]])\n",
        "      binins.append(array_table[instr[2]])\n",
        "    if instr[0]=='ADD' or instr[0]=='SUB':\n",
        "      binins.append(array_table[instr[1]])\n",
        "      binins.append(array_table[instr[2]])\n",
        "      binins.append(array_table[instr[3]])\n",
        "    if instr[0]=='ADDI':\n",
        "      binins.append(array_table[instr[1]])\n",
        "      binins.append(array_table[instr[2]])\n",
        "      buff=bin(int(instr[3]))[2:]\n",
        "      if len(buff)<3:\n",
        "        while len(buff)<3:\n",
        "          buff='0'+buff\n",
        "      binins.append(buff)\n",
        "    if instr[0]=='ST':\n",
        "      buff=bin(int(instr[1][0]))[2:]\n",
        "      if len(buff)<3:\n",
        "        while len(buff)<3:\n",
        "          buff='0'+buff\n",
        "      binins.append(buff)\n",
        "      binins.append(array_table[instr[1][2:-1]])\n",
        "      binins.append(reg_table[instr[2]])\n",
        "\n",
        "    binstr=''\n",
        "    for i in binins:\n",
        "      binstr=binstr+str(i)\n",
        "    print(binstr)\n",
        "    writef.write(binstr)\n",
        "    writef.write('\\n')\n",
        "\n",
        "    # print(binins)\n",
        "\n",
        "\n",
        "f = open('simd_instructions.txt', 'r')\n",
        "for i in f:\n",
        "  convert(i)\n"
      ]
    },
    {
      "cell_type": "code",
      "execution_count": 3,
      "metadata": {
        "id": "-1bRdNM9ltNC"
      },
      "outputs": [],
      "source": [
        "arr_sim={\n",
        "    '000':[],\n",
        "    '001':[],\n",
        "    '010':[],\n",
        "    '011':[],\n",
        "    '100':[],\n",
        "}\n",
        "\n",
        "reg_sim={\n",
        "    '000':0,\n",
        "    '001':0,\n",
        "    '010':0,\n",
        "    '011':0,\n",
        "    '100':0,\n",
        "}"
      ]
    },
    {
      "cell_type": "code",
      "execution_count": 4,
      "metadata": {
        "colab": {
          "base_uri": "https://localhost:8080/"
        },
        "id": "H6zj3UtdjW0H",
        "outputId": "eaf63143-dcb4-49d8-8cce-92d808a3baaa"
      },
      "outputs": [
        {
          "name": "stdout",
          "output_type": "stream",
          "text": [
            "['000', '000', '011', '001', '010', '011']\n",
            "['000', '010', '011', '100', '101', '110']\n",
            "['101', '001', '010']\n",
            "['010', '010', '000', '001']\n",
            "['011', '011', '000', '001']\n",
            "['100', '100', '000', '010']\n",
            "['001', '000', '010', '000']\n",
            "['001', '100', '010', '001']\n",
            "['001', '000', '011', '010']\n",
            "['001', '100', '100', '011']\n"
          ]
        }
      ],
      "source": [
        "f=open('bin.txt', 'r')\n",
        "arrays=[]\n",
        "for istr in f:\n",
        "  iarr=[istr[i:i+3] for i in range(0, len(istr), 3)]\n",
        "  iarr.pop()\n",
        "  print(iarr)\n",
        "  if iarr[0]=='000':\n",
        "    n=int(iarr[2], 2)\n",
        "    buff=[]\n",
        "    for i in range(n):\n",
        "      buff.append(int(iarr[3+i], 2))\n",
        "    arr_sim[iarr[1]]=buff\n",
        "  if iarr[0] == '101':\n",
        "    arr_sim[iarr[1]]=arr_sim[iarr[2]]\n",
        "  if iarr[0] == '010':\n",
        "    for i in range(len(arr_sim[iarr[2]])):\n",
        "      arr_sim[iarr[1]].append(arr_sim[iarr[2]][i]+arr_sim[iarr[3]][i])\n",
        "  if iarr[0] == '011':\n",
        "    for i in range(len(arr_sim[iarr[2]])):\n",
        "      arr_sim[iarr[1]].append(arr_sim[iarr[2]][i]-arr_sim[iarr[3]][i])\n",
        "  if iarr[0]== '100':\n",
        "    x=int(iarr[3], 2)\n",
        "    for i in range(len(arr_sim[iarr[2]])):\n",
        "      arr_sim[iarr[1]].append(arr_sim[iarr[2]][i]+x)\n",
        "  if iarr[0]=='001':\n",
        "    # print(int(iarr[1], 2))\n",
        "    index=int(iarr[1], 2)//4\n",
        "    reg_sim[iarr[3]]=arr_sim[iarr[2]][index]\n",
        "\n"
      ]
    },
    {
      "cell_type": "code",
      "execution_count": 5,
      "metadata": {
        "colab": {
          "base_uri": "https://localhost:8080/"
        },
        "id": "goLGvvtywGOn",
        "outputId": "625b4b35-0d90-4253-9d66-c85d4983bae0"
      },
      "outputs": [
        {
          "name": "stdout",
          "output_type": "stream",
          "text": [
            "{'000': [1, 2, 3], '001': [4, 5, 6, 5, 7, 9], '010': [4, 5, 6, 5, 7, 9], '011': [-3, -3, -3], '100': [3, 4, 5]}\n",
            "{'000': 4, '001': 5, '010': -3, '011': 4, '100': 0}\n"
          ]
        }
      ],
      "source": [
        "print(arr_sim)\n",
        "print(reg_sim)"
      ]
    },
    {
      "cell_type": "code",
      "execution_count": 6,
      "metadata": {
        "id": "ZQ1Yp7BLyvWE"
      },
      "outputs": [],
      "source": [
        "pipeline = {\"F\": \"\", \"D\": \"\", \"X\": \"\", \"M\": \"\", \"W\": \"\"}"
      ]
    },
    {
      "cell_type": "code",
      "execution_count": 7,
      "metadata": {
        "id": "7KkLEcOVy0RO"
      },
      "outputs": [],
      "source": [
        "cyc=2\n",
        "reg=[]\n",
        "dep_reg=[]\n",
        "\n",
        "def fit(ins):\n",
        "  global reg\n",
        "  if ins[0]== \"001\":\n",
        "    reg.append(ins[3])\n",
        "    dep_reg.append([ins[2]])\n",
        "  if ins[0]=='000':\n",
        "    reg.append(ins[1])\n",
        "    dep_reg.append(-1)\n",
        "  if ins[0]=='010' or ins[0]=='011':\n",
        "    reg.append(ins[1])\n",
        "    buff=[ins[2], ins[3]]\n",
        "    dep_reg.append(buff)\n",
        "  if ins[0]=='100' or ins[0]=='101':\n",
        "    reg.append(ins[1])\n",
        "    dep_reg.append([ins[2]])\n",
        "\n",
        "b = open('bin.txt', 'r')\n",
        "for istr in b:\n",
        "  x=[istr[i:i+3] for i in range(0, len(istr), 3)]\n",
        "  fit(x)"
      ]
    },
    {
      "cell_type": "code",
      "execution_count": 8,
      "metadata": {
        "colab": {
          "base_uri": "https://localhost:8080/"
        },
        "id": "M_GL96Qs6sfF",
        "outputId": "e82399dc-d72c-474e-8c1c-ca2a84dc56d0"
      },
      "outputs": [
        {
          "name": "stdout",
          "output_type": "stream",
          "text": [
            "000   -1\n",
            "010   -1\n",
            "001   ['010']\n",
            "010   ['000', '001']\n",
            "011   ['000', '001']\n",
            "100   ['000']\n",
            "000   ['010']\n",
            "001   ['010']\n",
            "010   ['011']\n",
            "011   ['100']\n"
          ]
        }
      ],
      "source": [
        "for i in range(len(reg)):\n",
        "  print(reg[i], \" \", dep_reg[i])"
      ]
    },
    {
      "cell_type": "code",
      "execution_count": 9,
      "metadata": {
        "colab": {
          "base_uri": "https://localhost:8080/"
        },
        "id": "CCvoPkGC7grl",
        "outputId": "b5f72041-83da-4ef7-cf2b-ff2ddb1191c9"
      },
      "outputs": [
        {
          "name": "stdout",
          "output_type": "stream",
          "text": [
            "18\n"
          ]
        }
      ],
      "source": [
        "stalls=0\n",
        "x=-1\n",
        "for i in dep_reg:\n",
        "  x+=1\n",
        "  if i!= -1:\n",
        "    mr=[]\n",
        "    for dreg in i:\n",
        "      for tarreg in reg:\n",
        "        if dreg==tarreg:\n",
        "          if reg.index(tarreg)-x in range(-2, 0):\n",
        "            if type(dep_reg[x-1]) != int and dreg in dep_reg[x-1]:\n",
        "              break\n",
        "            mr.append(3-abs(reg.index(tarreg)-x))\n",
        "    if mr:\n",
        "      stalls+=max(mr)\n",
        "\n",
        "cycles=len(reg)+4+stalls\n",
        "print(cycles)"
      ]
    }
  ],
  "metadata": {
    "colab": {
      "provenance": []
    },
    "kernelspec": {
      "display_name": "Python 3",
      "name": "python3"
    },
    "language_info": {
      "codemirror_mode": {
        "name": "ipython",
        "version": 3
      },
      "file_extension": ".py",
      "mimetype": "text/x-python",
      "name": "python",
      "nbconvert_exporter": "python",
      "pygments_lexer": "ipython3",
      "version": "3.10.11"
    }
  },
  "nbformat": 4,
  "nbformat_minor": 0
}
